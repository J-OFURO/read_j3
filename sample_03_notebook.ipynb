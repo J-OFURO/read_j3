{
 "cells": [
  {
   "cell_type": "code",
   "execution_count": 1,
   "metadata": {
    "collapsed": true
   },
   "outputs": [],
   "source": [
    "import netCDF4\n",
    "import numpy as np\n",
    "import j3"
   ]
  },
  {
   "cell_type": "code",
   "execution_count": null,
   "metadata": {
    "collapsed": true
   },
   "outputs": [],
   "source": [
    "# directory path to downloaded netCDF\n",
    "data_path='../../J3_DAILY'\n",
    "\n",
    "#\n",
    "var='NHF'\n",
    "ver='V1.0'\n",
    "tr='DAILY'\n",
    "sr='HR'\n",
    "yr='2002'"
   ]
  },
  {
   "cell_type": "code",
   "execution_count": 3,
   "metadata": {},
   "outputs": [
    {
     "name": "stdout",
     "output_type": "stream",
     "text": [
      "../../J3_DAILY/J-OFURO3_NHF_V1.0_DAILY_HR_2002.nc\n"
     ]
    }
   ],
   "source": [
    "fname = j3.misc.filename(var,tr,sr,ver,yr)\n",
    "file=data_path + '/' + fname\n",
    "print(file)"
   ]
  },
  {
   "cell_type": "code",
   "execution_count": 4,
   "metadata": {
    "collapsed": true
   },
   "outputs": [],
   "source": [
    "# open netCDF file\n",
    "ncf = netCDF4.Dataset(file, 'r')"
   ]
  },
  {
   "cell_type": "code",
   "execution_count": 5,
   "metadata": {},
   "outputs": [
    {
     "name": "stdout",
     "output_type": "stream",
     "text": [
      "OrderedDict([('latitude', <class 'netCDF4._netCDF4.Variable'>\n",
      "float32 latitude(latitude)\n",
      "    units: degrees_north\n",
      "unlimited dimensions: \n",
      "current shape = (720,)\n",
      "filling off\n",
      "), ('longitude', <class 'netCDF4._netCDF4.Variable'>\n",
      "float32 longitude(longitude)\n",
      "    units: degrees_east\n",
      "unlimited dimensions: \n",
      "current shape = (1440,)\n",
      "filling off\n",
      "), ('time', <class 'netCDF4._netCDF4.Variable'>\n",
      "float32 time(time)\n",
      "    units: days since 2002-01-01\n",
      "unlimited dimensions: \n",
      "current shape = (365,)\n",
      "filling off\n",
      "), ('NHF', <class 'netCDF4._netCDF4.Variable'>\n",
      "float32 NHF(time, latitude, longitude)\n",
      "    units: W/m^2\n",
      "    long_name: Net heat flux\n",
      "    missing_value: -9999.0\n",
      "unlimited dimensions: \n",
      "current shape = (365, 720, 1440)\n",
      "filling off\n",
      ")])\n"
     ]
    }
   ],
   "source": [
    "# print info\n",
    "print(ncf.variables)"
   ]
  },
  {
   "cell_type": "code",
   "execution_count": 6,
   "metadata": {
    "collapsed": true
   },
   "outputs": [],
   "source": [
    "nhf = j3.read.data(ncf,var)"
   ]
  },
  {
   "cell_type": "code",
   "execution_count": 7,
   "metadata": {
    "collapsed": true
   },
   "outputs": [],
   "source": [
    "ave2d = np.ma.average(nhf, axis=0)"
   ]
  },
  {
   "cell_type": "code",
   "execution_count": 9,
   "metadata": {
    "scrolled": true
   },
   "outputs": [
    {
     "data": {
      "text/plain": [
       "(720, 1440)"
      ]
     },
     "execution_count": 9,
     "metadata": {},
     "output_type": "execute_result"
    }
   ],
   "source": [
    "ave2d.shape"
   ]
  }
 ],
 "metadata": {
  "kernelspec": {
   "display_name": "Python 3",
   "language": "python",
   "name": "python3"
  },
  "language_info": {
   "codemirror_mode": {
    "name": "ipython",
    "version": 3
   },
   "file_extension": ".py",
   "mimetype": "text/x-python",
   "name": "python",
   "nbconvert_exporter": "python",
   "pygments_lexer": "ipython3",
   "version": "3.6.1"
  }
 },
 "nbformat": 4,
 "nbformat_minor": 2
}
